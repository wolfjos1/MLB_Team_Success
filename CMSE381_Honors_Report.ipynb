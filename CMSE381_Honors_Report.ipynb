{
 "cells": [
  {
   "cell_type": "markdown",
   "id": "dd5cf7e2",
   "metadata": {},
   "source": [
    "### CMSE 381 Honors Project\n",
    "#### Josh Wolf\n",
    "#### April 28, 2022"
   ]
  },
  {
   "cell_type": "markdown",
   "id": "547fbac0",
   "metadata": {},
   "source": [
    "# ___Analyizing Team Success in Major League Baseball___"
   ]
  },
  {
   "cell_type": "markdown",
   "id": "a167f1d5",
   "metadata": {},
   "source": [
    "## 1.0 Background and Motivation"
   ]
  },
  {
   "cell_type": "markdown",
   "id": "0493b1bb",
   "metadata": {},
   "source": [
    "Major League Baseball is a league centered around statistics. Since the 1800s, teams and scorekeepers have been tracking meaningful and relavant data. With all this data available, many questions are sparked and answered. The question I decided to focus on centers around winning and team success. In this project, I analyzed what affects winning the most in the MLB. More specifically, I looked at win totals while also focusing on making the playoffs as quantifying \"winning\"."
   ]
  },
  {
   "cell_type": "markdown",
   "id": "dd4ec6a1",
   "metadata": {},
   "source": [
    "## 2 Methodology"
   ]
  },
  {
   "cell_type": "code",
   "execution_count": null,
   "id": "0205c819",
   "metadata": {},
   "outputs": [],
   "source": [
    "The first thing "
   ]
  }
 ],
 "metadata": {
  "kernelspec": {
   "display_name": "Python 3 (ipykernel)",
   "language": "python",
   "name": "python3"
  },
  "language_info": {
   "codemirror_mode": {
    "name": "ipython",
    "version": 3
   },
   "file_extension": ".py",
   "mimetype": "text/x-python",
   "name": "python",
   "nbconvert_exporter": "python",
   "pygments_lexer": "ipython3",
   "version": "3.8.2"
  }
 },
 "nbformat": 4,
 "nbformat_minor": 5
}
